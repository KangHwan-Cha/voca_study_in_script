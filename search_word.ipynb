{
 "cells": [
  {
   "cell_type": "code",
   "execution_count": 44,
   "metadata": {},
   "outputs": [],
   "source": [
    "import requests\n",
    "from bs4 import BeautifulSoup\n",
    "import openpyxl as xl"
   ]
  },
  {
   "cell_type": "code",
   "execution_count": 25,
   "metadata": {},
   "outputs": [
    {
     "data": {
      "text/plain": [
       "95"
      ]
     },
     "execution_count": 25,
     "metadata": {},
     "output_type": "execute_result"
    }
   ],
   "source": [
    "from random import randint\n",
    "randint(0, 100)"
   ]
  },
  {
   "cell_type": "code",
   "execution_count": 32,
   "metadata": {},
   "outputs": [
    {
     "data": {
      "text/plain": [
       "953"
      ]
     },
     "execution_count": 32,
     "metadata": {},
     "output_type": "execute_result"
    }
   ],
   "source": [
    "to_find_word_list = []\n",
    "with open('./ToSearchWord/About Time Word.txt', 'r') as f:\n",
    "    for line in f:\n",
    "        to_find_word_list.append(line.strip().strip('\\n'))\n",
    "len(to_find_word_list)"
   ]
  },
  {
   "cell_type": "code",
   "execution_count": 39,
   "metadata": {},
   "outputs": [
    {
     "data": {
      "text/plain": [
       "['proud', 'yesterday', 'fairly', 'cat', 'wood']"
      ]
     },
     "execution_count": 39,
     "metadata": {},
     "output_type": "execute_result"
    }
   ],
   "source": [
    "test_set = []\n",
    "for _ in range(5):\n",
    "    test_set.append(to_find_word_list[randint(0, len(to_find_word_list))])\n",
    "test_set"
   ]
  },
  {
   "cell_type": "code",
   "execution_count": 42,
   "metadata": {},
   "outputs": [
    {
     "name": "stdout",
     "output_type": "stream",
     "text": [
      "검색한 단어: proud\n",
      "------------------------------\n",
      "검색한 단어: yesterday\n",
      "------------------------------\n",
      "검색한 단어: fairly\n",
      "------------------------------\n",
      "검색한 단어: cat\n",
      "------------------------------\n",
      "검색한 단어: wood\n",
      "------------------------------\n"
     ]
    }
   ],
   "source": [
    "import time\n",
    "\n",
    "result = []\n",
    "for sear_word in test_set:\n",
    "    word = sear_word\n",
    "    url = f'https://dic.daum.net/search.do?q={word}'\n",
    "    req = requests.get(url)\n",
    "    soup = BeautifulSoup(req.content, 'html.parser')\n",
    "    time.sleep(1)\n",
    "    table = soup.select_one('div.cleanword_type.kuek_type')\n",
    "    print(f'검색한 단어: {word}')\n",
    "    if table:   # 검색한 결과가 있는 경우에만 실행\n",
    "        means = table.select('ul > li')\n",
    "        if means:\n",
    "            correct_means = soup.select_one('span.txt_emph1').get_text()\n",
    "            if correct_means and word != correct_means:\n",
    "                word += f'\\nFix: {correct_means}'\n",
    "                # print(f'교정되어 검색된 단어: {correct_means}')\n",
    "            res_mean = '\\n'.join([mean.get_text() for mean in means])\n",
    "            result.append([word, res_mean, url.replace(\" \", \"%20\")])\n",
    "    else:\n",
    "        print(f'{word}: 검색결과가 없습니다.')\n",
    "    print('------------------------------')"
   ]
  },
  {
   "cell_type": "code",
   "execution_count": 45,
   "metadata": {},
   "outputs": [],
   "source": [
    "workbook = xl.Workbook()\n",
    "sheet = workbook.active\n",
    "sheet.append(['Word', 'Meaning', 'Link'])\n",
    "for data in result:\n",
    "    sheet.append(data)\n",
    "workbook.save('./ToSearchWord/About Time Word.xlsx')"
   ]
  }
 ],
 "metadata": {
  "kernelspec": {
   "display_name": "Python 3",
   "language": "python",
   "name": "python3"
  },
  "language_info": {
   "codemirror_mode": {
    "name": "ipython",
    "version": 3
   },
   "file_extension": ".py",
   "mimetype": "text/x-python",
   "name": "python",
   "nbconvert_exporter": "python",
   "pygments_lexer": "ipython3",
   "version": "3.11.4"
  }
 },
 "nbformat": 4,
 "nbformat_minor": 2
}
