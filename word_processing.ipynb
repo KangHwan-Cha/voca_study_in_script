{
 "cells": [
  {
   "cell_type": "code",
   "execution_count": 7,
   "metadata": {},
   "outputs": [],
   "source": [
    "import fitz\n",
    "import re"
   ]
  },
  {
   "cell_type": "markdown",
   "metadata": {},
   "source": [
    "### 문자열 처리"
   ]
  },
  {
   "cell_type": "code",
   "execution_count": 8,
   "metadata": {},
   "outputs": [],
   "source": [
    "def str_processing(s: str) -> str:\n",
    "    # 정규표현식 패턴을 컴파일\n",
    "    alphabet_pattern = re.compile(r'[^a-zA-Z]')\n",
    "    # 알파벳만 추출\n",
    "    result = alphabet_pattern.sub('', s)\n",
    "    return result"
   ]
  },
  {
   "cell_type": "markdown",
   "metadata": {},
   "source": [
    "### PDF에 있는 단어를 리스트 변환"
   ]
  },
  {
   "cell_type": "code",
   "execution_count": 9,
   "metadata": {},
   "outputs": [],
   "source": [
    "def word_to_list_in_pdf(pdf_path: str) -> list:\n",
    "    # save string to lowercase\n",
    "    doc = fitz.open(pdf_path)\n",
    "\n",
    "    # 순서를 유지하기 위함\n",
    "    result_dic = dict()\n",
    "    for page in doc:\n",
    "        text = page.get_text()\n",
    "        l = text.split('\\n')\n",
    "        for sentence in l:\n",
    "            for s in sentence.split(' '):\n",
    "                s = str_processing(s).lower()\n",
    "                if s != \"\" and s not in result_dic:\n",
    "                    result_dic[s] = \"\"\n",
    "    return list(result_dic)"
   ]
  },
  {
   "cell_type": "markdown",
   "metadata": {},
   "source": [
    "### word list를 텍스트 파일로 변환"
   ]
  },
  {
   "cell_type": "code",
   "execution_count": 10,
   "metadata": {},
   "outputs": [],
   "source": [
    "def word_to_txt(l: list, file_path: str) -> bool:\n",
    "    try:\n",
    "        with open(file_path, 'w') as f:\n",
    "            for s in l:\n",
    "                f.write(f'{s}\\n')\n",
    "        return True\n",
    "    except Exception as e:\n",
    "        print(f'Occur Error: {e}')"
   ]
  },
  {
   "cell_type": "markdown",
   "metadata": {},
   "source": [
    "### word 텍스트 파일 리스트 자료형으로 변환"
   ]
  },
  {
   "cell_type": "code",
   "execution_count": 11,
   "metadata": {},
   "outputs": [],
   "source": [
    "def word_txt_to_list(file_name:str) -> list:\n",
    "    l = []\n",
    "    with open(f'./Word/{file_name}', 'r') as f:\n",
    "        l = f.readlines()\n",
    "    result = []\n",
    "    for i in l:\n",
    "        result.append(i.strip().strip('\\n'))\n",
    "    return result"
   ]
  },
  {
   "cell_type": "markdown",
   "metadata": {},
   "source": [
    "### word list를 dict 자료형 변환"
   ]
  },
  {
   "cell_type": "code",
   "execution_count": 12,
   "metadata": {},
   "outputs": [],
   "source": [
    "def word_list_to_dict(l: list) -> dict:\n",
    "    result_dict = dict()\n",
    "    for i in l:\n",
    "        result_dict[i] = ''\n",
    "    return result_dict"
   ]
  },
  {
   "cell_type": "markdown",
   "metadata": {},
   "source": [
    "## ==============================="
   ]
  },
  {
   "cell_type": "markdown",
   "metadata": {},
   "source": [
    "### Main"
   ]
  },
  {
   "cell_type": "code",
   "execution_count": 13,
   "metadata": {},
   "outputs": [],
   "source": [
    "pdf_proposal = \"./Script/the Proposal 2009.pdf\"\n",
    "pdf_starborn = \"./Script/A star is born.pdf\"\n",
    "pdf_about_time = \"./Script/About Time.pdf\""
   ]
  },
  {
   "cell_type": "code",
   "execution_count": 55,
   "metadata": {},
   "outputs": [
    {
     "data": {
      "text/plain": [
       "True"
      ]
     },
     "execution_count": 55,
     "metadata": {},
     "output_type": "execute_result"
    }
   ],
   "source": [
    "word_to_txt(word_to_list_in_pdf(pdf_proposal), file_name='./Word/The Proposal.txt')\n",
    "word_to_txt(word_to_list_in_pdf(pdf_starborn), file_name='./Word/A star is born.txt')\n",
    "word_to_txt(word_to_list_in_pdf(pdf_about_time), file_name='./Word/About Time.txt')"
   ]
  },
  {
   "cell_type": "code",
   "execution_count": 14,
   "metadata": {},
   "outputs": [],
   "source": [
    "proposal_word = word_txt_to_list('The Proposal.txt')"
   ]
  },
  {
   "cell_type": "code",
   "execution_count": 15,
   "metadata": {},
   "outputs": [],
   "source": [
    "about_time_word = word_txt_to_list('About Time.txt')"
   ]
  },
  {
   "cell_type": "code",
   "execution_count": 16,
   "metadata": {},
   "outputs": [],
   "source": [
    "proposal_word = word_list_to_dict(proposal_word)"
   ]
  },
  {
   "cell_type": "code",
   "execution_count": 17,
   "metadata": {},
   "outputs": [],
   "source": [
    "to_study_word = []\n",
    "for word in about_time_word:\n",
    "    if word not in proposal_word:\n",
    "        to_study_word.append(word)"
   ]
  },
  {
   "cell_type": "code",
   "execution_count": 19,
   "metadata": {},
   "outputs": [
    {
     "data": {
      "text/plain": [
       "True"
      ]
     },
     "execution_count": 19,
     "metadata": {},
     "output_type": "execute_result"
    }
   ],
   "source": [
    "word_to_txt(to_study_word, './ToSearchWord/About Time Word.txt')"
   ]
  }
 ],
 "metadata": {
  "kernelspec": {
   "display_name": "Python 3",
   "language": "python",
   "name": "python3"
  },
  "language_info": {
   "codemirror_mode": {
    "name": "ipython",
    "version": 3
   },
   "file_extension": ".py",
   "mimetype": "text/x-python",
   "name": "python",
   "nbconvert_exporter": "python",
   "pygments_lexer": "ipython3",
   "version": "3.11.4"
  }
 },
 "nbformat": 4,
 "nbformat_minor": 2
}
